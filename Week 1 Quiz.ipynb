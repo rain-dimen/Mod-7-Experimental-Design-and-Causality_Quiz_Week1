{
 "cells": [
  {
   "cell_type": "markdown",
   "metadata": {},
   "source": [
    "For questions 1 to 3:\n",
    "\n",
    "Perform a linear regression to predict Y from X1, X2, and X3. Use the file homework_1.1.csv.\n",
    "\n",
    "\n",
    "Which of the following is closest to the coefficient of X1? \n",
    "\n",
    "Option A\n",
    "3\n",
    "\n",
    "Option B\n",
    "1\n",
    "\n",
    "\n",
    "\n",
    "Which Xi has the greatest difference between the amount Y increases for each 1 unit of Xi (fixing the other Xi’s), as opposed to the amount that Y increases for each 1 unit of Xi in the dataset, on average (not fixing the other Xis)? Hint: for the former, you'll have to regress Y on Xi alone, while for the latter, you'll have to regress Y on all three Xis. \n",
    "\n",
    "Option A\n",
    "X2\n",
    "\n",
    "Option B\n",
    "X3\n",
    "\n",
    "Option C\n",
    "X1\n",
    "\n",
    "\n",
    "Question 3\n",
    "6\n",
    " Points\n",
    "Question 3\n",
    "When regressing Y on all Xis together, which coefficient is most significant, considering the t-statistic as a measure of significance? \n",
    "\n",
    "Option A\n",
    "X1 \n",
    "\n",
    "Option B\n",
    "X2 \n",
    "\n",
    "Option C\n",
    "X3"
   ]
  },
  {
   "cell_type": "code",
   "execution_count": null,
   "metadata": {},
   "outputs": [],
   "source": []
  }
 ],
 "metadata": {
  "kernelspec": {
   "display_name": "Python 3 (ipykernel)",
   "language": "python",
   "name": "python3"
  },
  "language_info": {
   "codemirror_mode": {
    "name": "ipython",
    "version": 3
   },
   "file_extension": ".py",
   "mimetype": "text/x-python",
   "name": "python",
   "nbconvert_exporter": "python",
   "pygments_lexer": "ipython3",
   "version": "3.10.13"
  }
 },
 "nbformat": 4,
 "nbformat_minor": 4
}
